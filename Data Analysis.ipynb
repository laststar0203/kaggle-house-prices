{
 "cells": [
  {
   "cell_type": "markdown",
   "metadata": {},
   "source": [
    "# House Prices - Advanced Regression Techniques\n",
    "https://www.kaggle.com/c/house-prices-advanced-regression-techniques/submit\n"
   ]
  },
  {
   "cell_type": "markdown",
   "metadata": {},
   "source": [
    "## Description\n",
    "\n",
    "Ask a home buyer to describe their dream house, and they probably won't begin with the height of the basement ceiling or the proximity to an east-west railroad. But this playground competition's dataset proves that much more influences price negotiations than the number of bedrooms or a white-picket fence.\n",
    "\n",
    "주택 구입자에게 꿈의 집을 설명해달라고 요청하면 지하 천장 높이나 East-West Railload(동서철도) 근접성으로 시작하진 않을 것입니다.\n",
    "그러나 이 대회의 데이터셋은 침실 수. while-picket pence 보다 가격 협상에 훨씬 더 많은 영향을 미친 다는 것을 증명합니다.\n",
    "\n",
    "With 79 explanatory variables describing (almost) every aspect of residential homes in Ames, Iowa, this competition challenges you to predict the final price of each home.\n",
    "\n",
    "주 Ames, Iowa 에 있는 주거용 주택의 거의 모든 측면을 설명하는 70개의 설명 변수가 있는 데이터셋을로 각 주택의 최종 가격을 예측해야합니다. "
   ]
  },
  {
   "cell_type": "code",
   "execution_count": 8,
   "metadata": {},
   "outputs": [],
   "source": [
    "import matplotlib\n",
    "import matplotlib.pyplot as plt\n",
    "import pandas as pd"
   ]
  },
  {
   "cell_type": "code",
   "execution_count": 2,
   "metadata": {},
   "outputs": [],
   "source": [
    "train = pd.read_csv('./data/train.csv')"
   ]
  },
  {
   "cell_type": "code",
   "execution_count": 35,
   "metadata": {},
   "outputs": [
    {
     "data": {
      "text/html": [
       "<div>\n",
       "<style scoped>\n",
       "    .dataframe tbody tr th:only-of-type {\n",
       "        vertical-align: middle;\n",
       "    }\n",
       "\n",
       "    .dataframe tbody tr th {\n",
       "        vertical-align: top;\n",
       "    }\n",
       "\n",
       "    .dataframe thead th {\n",
       "        text-align: right;\n",
       "    }\n",
       "</style>\n",
       "<table border=\"1\" class=\"dataframe\">\n",
       "  <thead>\n",
       "    <tr style=\"text-align: right;\">\n",
       "      <th></th>\n",
       "      <th>Id</th>\n",
       "      <th>MSSubClass</th>\n",
       "      <th>MSZoning</th>\n",
       "      <th>LotFrontage</th>\n",
       "      <th>LotArea</th>\n",
       "      <th>Street</th>\n",
       "      <th>Alley</th>\n",
       "      <th>LotShape</th>\n",
       "      <th>LandContour</th>\n",
       "      <th>Utilities</th>\n",
       "      <th>...</th>\n",
       "      <th>PoolArea</th>\n",
       "      <th>PoolQC</th>\n",
       "      <th>Fence</th>\n",
       "      <th>MiscFeature</th>\n",
       "      <th>MiscVal</th>\n",
       "      <th>MoSold</th>\n",
       "      <th>YrSold</th>\n",
       "      <th>SaleType</th>\n",
       "      <th>SaleCondition</th>\n",
       "      <th>SalePrice</th>\n",
       "    </tr>\n",
       "  </thead>\n",
       "  <tbody>\n",
       "    <tr>\n",
       "      <th>0</th>\n",
       "      <td>1</td>\n",
       "      <td>60</td>\n",
       "      <td>RL</td>\n",
       "      <td>65.0</td>\n",
       "      <td>8450</td>\n",
       "      <td>Pave</td>\n",
       "      <td>NaN</td>\n",
       "      <td>Reg</td>\n",
       "      <td>Lvl</td>\n",
       "      <td>AllPub</td>\n",
       "      <td>...</td>\n",
       "      <td>0</td>\n",
       "      <td>NaN</td>\n",
       "      <td>NaN</td>\n",
       "      <td>NaN</td>\n",
       "      <td>0</td>\n",
       "      <td>2</td>\n",
       "      <td>2008</td>\n",
       "      <td>WD</td>\n",
       "      <td>Normal</td>\n",
       "      <td>208500</td>\n",
       "    </tr>\n",
       "    <tr>\n",
       "      <th>1</th>\n",
       "      <td>2</td>\n",
       "      <td>20</td>\n",
       "      <td>RL</td>\n",
       "      <td>80.0</td>\n",
       "      <td>9600</td>\n",
       "      <td>Pave</td>\n",
       "      <td>NaN</td>\n",
       "      <td>Reg</td>\n",
       "      <td>Lvl</td>\n",
       "      <td>AllPub</td>\n",
       "      <td>...</td>\n",
       "      <td>0</td>\n",
       "      <td>NaN</td>\n",
       "      <td>NaN</td>\n",
       "      <td>NaN</td>\n",
       "      <td>0</td>\n",
       "      <td>5</td>\n",
       "      <td>2007</td>\n",
       "      <td>WD</td>\n",
       "      <td>Normal</td>\n",
       "      <td>181500</td>\n",
       "    </tr>\n",
       "    <tr>\n",
       "      <th>2</th>\n",
       "      <td>3</td>\n",
       "      <td>60</td>\n",
       "      <td>RL</td>\n",
       "      <td>68.0</td>\n",
       "      <td>11250</td>\n",
       "      <td>Pave</td>\n",
       "      <td>NaN</td>\n",
       "      <td>IR1</td>\n",
       "      <td>Lvl</td>\n",
       "      <td>AllPub</td>\n",
       "      <td>...</td>\n",
       "      <td>0</td>\n",
       "      <td>NaN</td>\n",
       "      <td>NaN</td>\n",
       "      <td>NaN</td>\n",
       "      <td>0</td>\n",
       "      <td>9</td>\n",
       "      <td>2008</td>\n",
       "      <td>WD</td>\n",
       "      <td>Normal</td>\n",
       "      <td>223500</td>\n",
       "    </tr>\n",
       "    <tr>\n",
       "      <th>3</th>\n",
       "      <td>4</td>\n",
       "      <td>70</td>\n",
       "      <td>RL</td>\n",
       "      <td>60.0</td>\n",
       "      <td>9550</td>\n",
       "      <td>Pave</td>\n",
       "      <td>NaN</td>\n",
       "      <td>IR1</td>\n",
       "      <td>Lvl</td>\n",
       "      <td>AllPub</td>\n",
       "      <td>...</td>\n",
       "      <td>0</td>\n",
       "      <td>NaN</td>\n",
       "      <td>NaN</td>\n",
       "      <td>NaN</td>\n",
       "      <td>0</td>\n",
       "      <td>2</td>\n",
       "      <td>2006</td>\n",
       "      <td>WD</td>\n",
       "      <td>Abnorml</td>\n",
       "      <td>140000</td>\n",
       "    </tr>\n",
       "    <tr>\n",
       "      <th>4</th>\n",
       "      <td>5</td>\n",
       "      <td>60</td>\n",
       "      <td>RL</td>\n",
       "      <td>84.0</td>\n",
       "      <td>14260</td>\n",
       "      <td>Pave</td>\n",
       "      <td>NaN</td>\n",
       "      <td>IR1</td>\n",
       "      <td>Lvl</td>\n",
       "      <td>AllPub</td>\n",
       "      <td>...</td>\n",
       "      <td>0</td>\n",
       "      <td>NaN</td>\n",
       "      <td>NaN</td>\n",
       "      <td>NaN</td>\n",
       "      <td>0</td>\n",
       "      <td>12</td>\n",
       "      <td>2008</td>\n",
       "      <td>WD</td>\n",
       "      <td>Normal</td>\n",
       "      <td>250000</td>\n",
       "    </tr>\n",
       "  </tbody>\n",
       "</table>\n",
       "<p>5 rows × 81 columns</p>\n",
       "</div>"
      ],
      "text/plain": [
       "   Id  MSSubClass MSZoning  LotFrontage  LotArea Street Alley LotShape  \\\n",
       "0   1          60       RL         65.0     8450   Pave   NaN      Reg   \n",
       "1   2          20       RL         80.0     9600   Pave   NaN      Reg   \n",
       "2   3          60       RL         68.0    11250   Pave   NaN      IR1   \n",
       "3   4          70       RL         60.0     9550   Pave   NaN      IR1   \n",
       "4   5          60       RL         84.0    14260   Pave   NaN      IR1   \n",
       "\n",
       "  LandContour Utilities  ... PoolArea PoolQC Fence MiscFeature MiscVal MoSold  \\\n",
       "0         Lvl    AllPub  ...        0    NaN   NaN         NaN       0      2   \n",
       "1         Lvl    AllPub  ...        0    NaN   NaN         NaN       0      5   \n",
       "2         Lvl    AllPub  ...        0    NaN   NaN         NaN       0      9   \n",
       "3         Lvl    AllPub  ...        0    NaN   NaN         NaN       0      2   \n",
       "4         Lvl    AllPub  ...        0    NaN   NaN         NaN       0     12   \n",
       "\n",
       "  YrSold  SaleType  SaleCondition  SalePrice  \n",
       "0   2008        WD         Normal     208500  \n",
       "1   2007        WD         Normal     181500  \n",
       "2   2008        WD         Normal     223500  \n",
       "3   2006        WD        Abnorml     140000  \n",
       "4   2008        WD         Normal     250000  \n",
       "\n",
       "[5 rows x 81 columns]"
      ]
     },
     "execution_count": 35,
     "metadata": {},
     "output_type": "execute_result"
    }
   ],
   "source": [
    "train.head()"
   ]
  },
  {
   "cell_type": "code",
   "execution_count": 36,
   "metadata": {},
   "outputs": [
    {
     "name": "stdout",
     "output_type": "stream",
     "text": [
      "<class 'pandas.core.frame.DataFrame'>\n",
      "RangeIndex: 1460 entries, 0 to 1459\n",
      "Data columns (total 81 columns):\n",
      " #   Column         Non-Null Count  Dtype  \n",
      "---  ------         --------------  -----  \n",
      " 0   Id             1460 non-null   int64  \n",
      " 1   MSSubClass     1460 non-null   int64  \n",
      " 2   MSZoning       1460 non-null   object \n",
      " 3   LotFrontage    1201 non-null   float64\n",
      " 4   LotArea        1460 non-null   int64  \n",
      " 5   Street         1460 non-null   object \n",
      " 6   Alley          91 non-null     object \n",
      " 7   LotShape       1460 non-null   object \n",
      " 8   LandContour    1460 non-null   object \n",
      " 9   Utilities      1460 non-null   object \n",
      " 10  LotConfig      1460 non-null   object \n",
      " 11  LandSlope      1460 non-null   object \n",
      " 12  Neighborhood   1460 non-null   object \n",
      " 13  Condition1     1460 non-null   object \n",
      " 14  Condition2     1460 non-null   object \n",
      " 15  BldgType       1460 non-null   object \n",
      " 16  HouseStyle     1460 non-null   object \n",
      " 17  OverallQual    1460 non-null   int64  \n",
      " 18  OverallCond    1460 non-null   int64  \n",
      " 19  YearBuilt      1460 non-null   int64  \n",
      " 20  YearRemodAdd   1460 non-null   int64  \n",
      " 21  RoofStyle      1460 non-null   object \n",
      " 22  RoofMatl       1460 non-null   object \n",
      " 23  Exterior1st    1460 non-null   object \n",
      " 24  Exterior2nd    1460 non-null   object \n",
      " 25  MasVnrType     1452 non-null   object \n",
      " 26  MasVnrArea     1452 non-null   float64\n",
      " 27  ExterQual      1460 non-null   object \n",
      " 28  ExterCond      1460 non-null   object \n",
      " 29  Foundation     1460 non-null   object \n",
      " 30  BsmtQual       1423 non-null   object \n",
      " 31  BsmtCond       1423 non-null   object \n",
      " 32  BsmtExposure   1422 non-null   object \n",
      " 33  BsmtFinType1   1423 non-null   object \n",
      " 34  BsmtFinSF1     1460 non-null   int64  \n",
      " 35  BsmtFinType2   1422 non-null   object \n",
      " 36  BsmtFinSF2     1460 non-null   int64  \n",
      " 37  BsmtUnfSF      1460 non-null   int64  \n",
      " 38  TotalBsmtSF    1460 non-null   int64  \n",
      " 39  Heating        1460 non-null   object \n",
      " 40  HeatingQC      1460 non-null   object \n",
      " 41  CentralAir     1460 non-null   object \n",
      " 42  Electrical     1459 non-null   object \n",
      " 43  1stFlrSF       1460 non-null   int64  \n",
      " 44  2ndFlrSF       1460 non-null   int64  \n",
      " 45  LowQualFinSF   1460 non-null   int64  \n",
      " 46  GrLivArea      1460 non-null   int64  \n",
      " 47  BsmtFullBath   1460 non-null   int64  \n",
      " 48  BsmtHalfBath   1460 non-null   int64  \n",
      " 49  FullBath       1460 non-null   int64  \n",
      " 50  HalfBath       1460 non-null   int64  \n",
      " 51  BedroomAbvGr   1460 non-null   int64  \n",
      " 52  KitchenAbvGr   1460 non-null   int64  \n",
      " 53  KitchenQual    1460 non-null   object \n",
      " 54  TotRmsAbvGrd   1460 non-null   int64  \n",
      " 55  Functional     1460 non-null   object \n",
      " 56  Fireplaces     1460 non-null   int64  \n",
      " 57  FireplaceQu    770 non-null    object \n",
      " 58  GarageType     1379 non-null   object \n",
      " 59  GarageYrBlt    1379 non-null   float64\n",
      " 60  GarageFinish   1379 non-null   object \n",
      " 61  GarageCars     1460 non-null   int64  \n",
      " 62  GarageArea     1460 non-null   int64  \n",
      " 63  GarageQual     1379 non-null   object \n",
      " 64  GarageCond     1379 non-null   object \n",
      " 65  PavedDrive     1460 non-null   object \n",
      " 66  WoodDeckSF     1460 non-null   int64  \n",
      " 67  OpenPorchSF    1460 non-null   int64  \n",
      " 68  EnclosedPorch  1460 non-null   int64  \n",
      " 69  3SsnPorch      1460 non-null   int64  \n",
      " 70  ScreenPorch    1460 non-null   int64  \n",
      " 71  PoolArea       1460 non-null   int64  \n",
      " 72  PoolQC         7 non-null      object \n",
      " 73  Fence          281 non-null    object \n",
      " 74  MiscFeature    54 non-null     object \n",
      " 75  MiscVal        1460 non-null   int64  \n",
      " 76  MoSold         1460 non-null   int64  \n",
      " 77  YrSold         1460 non-null   int64  \n",
      " 78  SaleType       1460 non-null   object \n",
      " 79  SaleCondition  1460 non-null   object \n",
      " 80  SalePrice      1460 non-null   int64  \n",
      "dtypes: float64(3), int64(35), object(43)\n",
      "memory usage: 924.0+ KB\n"
     ]
    }
   ],
   "source": [
    "train.info()"
   ]
  },
  {
   "cell_type": "markdown",
   "metadata": {},
   "source": [
    "## Column"
   ]
  },
  {
   "cell_type": "code",
   "execution_count": 4,
   "metadata": {},
   "outputs": [
    {
     "data": {
      "text/plain": [
       "Index(['Id', 'MSSubClass', 'MSZoning', 'LotFrontage', 'LotArea', 'Street',\n",
       "       'Alley', 'LotShape', 'LandContour', 'Utilities', 'LotConfig',\n",
       "       'LandSlope', 'Neighborhood', 'Condition1', 'Condition2', 'BldgType',\n",
       "       'HouseStyle', 'OverallQual', 'OverallCond', 'YearBuilt', 'YearRemodAdd',\n",
       "       'RoofStyle', 'RoofMatl', 'Exterior1st', 'Exterior2nd', 'MasVnrType',\n",
       "       'MasVnrArea', 'ExterQual', 'ExterCond', 'Foundation', 'BsmtQual',\n",
       "       'BsmtCond', 'BsmtExposure', 'BsmtFinType1', 'BsmtFinSF1',\n",
       "       'BsmtFinType2', 'BsmtFinSF2', 'BsmtUnfSF', 'TotalBsmtSF', 'Heating',\n",
       "       'HeatingQC', 'CentralAir', 'Electrical', '1stFlrSF', '2ndFlrSF',\n",
       "       'LowQualFinSF', 'GrLivArea', 'BsmtFullBath', 'BsmtHalfBath', 'FullBath',\n",
       "       'HalfBath', 'BedroomAbvGr', 'KitchenAbvGr', 'KitchenQual',\n",
       "       'TotRmsAbvGrd', 'Functional', 'Fireplaces', 'FireplaceQu', 'GarageType',\n",
       "       'GarageYrBlt', 'GarageFinish', 'GarageCars', 'GarageArea', 'GarageQual',\n",
       "       'GarageCond', 'PavedDrive', 'WoodDeckSF', 'OpenPorchSF',\n",
       "       'EnclosedPorch', '3SsnPorch', 'ScreenPorch', 'PoolArea', 'PoolQC',\n",
       "       'Fence', 'MiscFeature', 'MiscVal', 'MoSold', 'YrSold', 'SaleType',\n",
       "       'SaleCondition', 'SalePrice'],\n",
       "      dtype='object')"
      ]
     },
     "execution_count": 4,
     "metadata": {},
     "output_type": "execute_result"
    }
   ],
   "source": [
    "train.columns"
   ]
  },
  {
   "cell_type": "markdown",
   "metadata": {},
   "source": [
    "### MSSubClass\n",
    "\n",
    "Identifies the type of dwelling involved in the sale.  \n",
    "  \n",
    "판매에 관여하는 주택 안 구조를 식별\n",
    "\n",
    "\n",
    "    20\t1-STORY 1946 & NEWER ALL STYLES\n",
    "    30\t1-STORY 1945 & OLDER\n",
    "    40\t1-STORY W/FINISHED ATTIC ALL AGES\n",
    "    45\t1-1/2 STORY - UNFINISHED ALL AGES\n",
    "    50\t1-1/2 STORY FINISHED ALL AGES\n",
    "    60\t2-STORY 1946 & NEWER\n",
    "    70\t2-STORY 1945 & OLDER\n",
    "    75\t2-1/2 STORY ALL AGES\n",
    "    80\tSPLIT OR MULTI-LEVEL\n",
    "    85\tSPLIT FOYER\n",
    "    90\tDUPLEX - ALL STYLES AND AGES\n",
    "    120\t1-STORY PUD (Planned Unit Development) - 1946 & NEWER\n",
    "    150\t1-1/2 STORY PUD - ALL AGES\n",
    "    160\t2-STORY PUD - 1946 & NEWER\n",
    "    180\tPUD - MULTILEVEL - INCL SPLIT LEV/FOYER\n",
    "    190\t2 FAMILY CONVERSION - ALL STYLES AND AGES\n"
   ]
  },
  {
   "cell_type": "code",
   "execution_count": 34,
   "metadata": {},
   "outputs": [
    {
     "data": {
      "text/plain": [
       "<AxesSubplot:>"
      ]
     },
     "execution_count": 34,
     "metadata": {},
     "output_type": "execute_result"
    },
    {
     "data": {
      "image/png": "[encoded data removed]",
      "text/plain": [
       "<Figure size 432x288 with 1 Axes>"
      ]
     },
     "metadata": {
      "needs_background": "light"
     },
     "output_type": "display_data"
    }
   ],
   "source": [
    "grouped = train.groupby(['MSSubClass'])\n",
    "df = pd.DataFrame()\n",
    "\n",
    "for key, frame in grouped:\n",
    "    df.loc[key, 'SalePrice'] = frame['SalePrice'].mean()\n",
    "    \n",
    "df.plot(kind='bar')"
   ]
  },
  {
   "cell_type": "markdown",
   "metadata": {},
   "source": [
    "ex) 2-1/2 STORY ALL AGES\n",
    "\n",
    "![2-1/2 STORY ALL AGES](https://i.pinimg.com/564x/44/5c/3d/445c3d0fe9d099f2955e8031642307cd.jpg)"
   ]
  },
  {
   "cell_type": "markdown",
   "metadata": {},
   "source": [
    "### MSZoning\n",
    "\n",
    "Identifies the general zoning classification of the sale.\n",
    "\n",
    "판매의 일반 구역 분류를 식별합니다.\n",
    "\n",
    "    A\tAgriculture (농업 구역)\n",
    "    C\tCommercial (상업 구역)\n",
    "    FV\tFloating Village Residential (주거용 수상 마을)\n",
    "    I\tIndustrial (산업[공업] 구역)\n",
    "    RH\tResidential High Density (인구 밀도가 높은 구역)\n",
    "    RL\tResidential Low Density (인구 밀도가 적은 구역)\n",
    "    RP\tResidential Low Density Park (인구 밀도가 적은 공원 구역)\n",
    "    RM\tResidential Medium Density (인구 밀도가 중간인 구역)\n"
   ]
  },
  {
   "cell_type": "code",
   "execution_count": 37,
   "metadata": {
    "scrolled": true
   },
   "outputs": [
    {
     "data": {
      "text/plain": [
       "<AxesSubplot:>"
      ]
     },
     "execution_count": 37,
     "metadata": {},
     "output_type": "execute_result"
    },
    {
     "data": {
      "image/png": "[encoded data removed]",
      "text/plain": [
       "<Figure size 432x288 with 1 Axes>"
      ]
     },
     "metadata": {
      "needs_background": "light"
     },
     "output_type": "display_data"
    }
   ],
   "source": [
    "grouped = train.groupby(['MSZoning'])\n",
    "df = pd.DataFrame()\n",
    "\n",
    "for key, frame in grouped:\n",
    "    df.loc[key, 'SalePrice'] = frame['SalePrice'].mean()\n",
    "    \n",
    "df.plot(kind='bar')"
   ]
  },
  {
   "cell_type": "markdown",
   "metadata": {},
   "source": [
    "### LotFrontage\n",
    "\n",
    "Linear feet of street connected to property\n",
    "\n",
    "거주지에 연결되어 있는 거리의 직선 길이"
   ]
  },
  {
   "cell_type": "markdown",
   "metadata": {},
   "source": [
    "### LotArea\n",
    "\n",
    "Lot size in square feet\n",
    "\n",
    "토지 크기(평방)"
   ]
  },
  {
   "cell_type": "markdown",
   "metadata": {},
   "source": [
    "### Street\n",
    "  \n",
    "Type of road access to property\n",
    "\n",
    "거주지로 들어갈때 지나가는 도로 바닥 유형\n",
    "\n",
    "    Grvl\tGravel (자갈)\n",
    "    Pave\tPaved (포장도로, 아스팔트)\n"
   ]
  },
  {
   "cell_type": "markdown",
   "metadata": {},
   "source": [
    "### Alley\n",
    "  \n",
    "Type of road access to property\n",
    "\n",
    "거주지로 들어갈때 골목길 유형\n",
    "\n",
    "    Grvl\tGravel (자갈)\t\t\n",
    "    Pave\tPaved (포장도로, 아스팔트)\t\t\n",
    "    NA \tNo alley access (없음)\n"
   ]
  },
  {
   "cell_type": "markdown",
   "metadata": {},
   "source": [
    "### LotShape\n",
    "  \n",
    "General shape of property\n",
    "\n",
    "토지 모양\n",
    "\n",
    "    Reg\tRegular\t(정모양 ex: 정사각형)\n",
    "    IR1\tSlightly irregular (약간 불규칙)\n",
    "    IR2\tModerately Irregular (보통 불규칙)\n",
    "    IR3\tIrregular (불규칙)\n"
   ]
  },
  {
   "cell_type": "markdown",
   "metadata": {},
   "source": [
    "### LandContour\n",
    "\n",
    "Flatness of the property\n",
    "\n",
    "거주지의 평탄도\n",
    "\n",
    "    Lvl\tNear Flat/Level (거의 편평한 수준)\t\t\t\t\t\t\t\t\t\t\t\t\n",
    "    Bnk\tBanked - Quick and significant rise from street grade to building (수평이 아닌 각도, 노면에서 건물까지 빠르고 현저한 상승)\t\n",
    "    HLS\tHillside - Significant slope from side to side (언덕-측면에서 측면으로의 상당한 경사)\t\t\t\t\t\n",
    "    Low\tDepression (울퉁불퉁)\t\t\t\t\t\t\t\t\t\t\t\t\t\t\n"
   ]
  },
  {
   "cell_type": "markdown",
   "metadata": {},
   "source": [
    "### Utilities\n",
    "\n",
    "Type of utilities available\n",
    "\n",
    "사용 가능한 기능\n",
    "\n",
    "    AllPub\tAll public Utilities (E,G,W,& S) (모두) \n",
    "    NoSewr\tElectricity, Gas, and Water (Septic Tank) (전기, 가스, 물 (정화조))\n",
    "    NoSeWa\tElectricity and Gas Only (전기 및 가스)\n",
    "    ELO\tElectricity only (전기)\n",
    "\t"
   ]
  },
  {
   "cell_type": "markdown",
   "metadata": {},
   "source": [
    "### LotConfig\n",
    "\n",
    "Lot configuration\n",
    "\n",
    "토지 형태\n",
    "\n",
    "    Inside\tInside lot \n",
    "    Corner\tCorner lot\n",
    "    CulDSac\tCul-de-sac\n",
    "    FR2\tFrontage on 2 sides of property\n",
    "    FR3\tFrontage on 3 sides of property\n"
   ]
  },
  {
   "cell_type": "markdown",
   "metadata": {},
   "source": [
    "### LandSlope\n",
    "\n",
    "Slope of property\n",
    "\n",
    "거주지의 경사정도\n",
    "\n",
    "    Gtl\tGentle slope (완만한)\n",
    "    Mod\tModerate Slope (경사짐)\n",
    "    Sev\tSevere Slope (극한) \n",
    "\n"
   ]
  },
  {
   "cell_type": "markdown",
   "metadata": {},
   "source": [
    "### Neighborhood\n",
    "\n",
    "Physical locations within Ames city limits\n",
    "\n",
    "Ames 도시 경계 내의 물리적 위치\n",
    "\n",
    "    Blmngtn\tBloomington Heights\n",
    "    Blueste\tBluestem\n",
    "    BrDale\tBriardale\n",
    "    BrkSide\tBrookside\n",
    "    ClearCr\tClear Creek\n",
    "    CollgCr\tCollege Creek\n",
    "    Crawfor\tCrawford\n",
    "    Edwards\tEdwards\n",
    "    Gilbert\tGilbert\n",
    "    IDOTRR\tIowa DOT and Rail Road\n",
    "    MeadowV\tMeadow Village\n",
    "    Mitchel\tMitchell\n",
    "    Names\tNorth Ames\n",
    "    NoRidge\tNorthridge\n",
    "    NPkVill\tNorthpark Villa\n",
    "    NridgHt\tNorthridge Heights\n",
    "    NWAmes\tNorthwest Ames\n",
    "    OldTown\tOld Town\n",
    "    SWISU\tSouth & West of Iowa State University\n",
    "    Sawyer\tSawyer\n",
    "    SawyerW\tSawyer West\n",
    "    Somerst\tSomerset\n",
    "    StoneBr\tStone Brook\n",
    "    Timber\tTimberland\n",
    "    Veenker\tVeenker\n",
    " \n"
   ]
  },
  {
   "cell_type": "markdown",
   "metadata": {},
   "source": [
    "### Condition1\n",
    "\n",
    "Proximity to various conditions\n",
    "\n",
    "근접해 있는 다양한 환경 조건\n",
    "\n",
    "    Artery\tAdjacent to arterial street (고속(간선) 도로와 인접)\n",
    "    Feedr\tAdjacent to feeder street (지선 도로와 인접)\n",
    "    Norm\tNormal\t\n",
    "    RRNn\tWithin 200' of North-South Railroad (남북 철도에서 200피트 이내)\n",
    "    RRAn\tAdjacent to North-South Railroad (남북 철도와 인접)\n",
    "    PosN\tNear positive off-site feature--park, greenbelt, etc. ( 공원, 그린벨트) 와 가까움\n",
    "    PosA\tAdjacent to positive off-site feature\n",
    "    RRNe\tWithin 200' of East-West Railroad (동서 철도에서 200피트 이내)\n",
    "    RRAe\tAdjacent to East-West Railroad (동서 철도와 인접)"
   ]
  },
  {
   "cell_type": "markdown",
   "metadata": {},
   "source": [
    "### Condition2\n",
    "\n",
    "Proximity to various conditions (if more than one is present)\n",
    "\n",
    "근접해 있는 다양한 환경 조건(2번째)\n",
    "\n",
    "    Artery\tAdjacent to arterial street (고속(간선) 도로와 인접)\n",
    "    Feedr\tAdjacent to feeder street (지선 도로와 인접)\n",
    "    Norm\tNormal\t\n",
    "    RRNn\tWithin 200' of North-South Railroad (남북 철도에서 200피트 이내)\n",
    "    RRAn\tAdjacent to North-South Railroad (남북 철도와 인접)\n",
    "    PosN\tNear positive off-site feature--park, greenbelt, etc. ( 공원, 그린벨트) 와 가까움\n",
    "    PosA\tAdjacent to positive off-site feature\n",
    "    RRNe\tWithin 200' of East-West Railroad (동서 철도에서 200피트 이내)\n",
    "    RRAe\tAdjacent to East-West Railroad (동서 철도와 인접)"
   ]
  },
  {
   "cell_type": "markdown",
   "metadata": {},
   "source": [
    "### BldgType\n",
    "\n",
    "Type of dwelling\n",
    "\n",
    "주거 유형\n",
    "\n",
    "    1Fam\tSingle-family Detached (분리된 단일 가족)\n",
    "    2FmCon\tTwo-family Conversion; originally built as one-family dwelling (두 가족 개종; 원래 1 가구 주택으로 지어졌습니다.)\n",
    "    Duplx\tDuplex (이중)\n",
    "    TwnhsE\tTownhouse End Unit\n",
    "    TwnhsI\tTownhouse Inside Unit"
   ]
  },
  {
   "cell_type": "markdown",
   "metadata": {},
   "source": [
    "### HouseStyle\n",
    "\n",
    "Style of dwelling\n",
    "\n",
    "주거 스타일\n",
    "\n",
    "    1Story\tOne story\n",
    "    1.5Fin\tOne and one-half story: 2nd level finished\n",
    "    1.5Unf\tOne and one-half story: 2nd level unfinished\n",
    "    2Story\tTwo story\n",
    "    2.5Fin\tTwo and one-half story: 2nd level finished\n",
    "    2.5Unf\tTwo and one-half story: 2nd level unfinished\n",
    "    SFoyer\tSplit Foyer\n",
    "    SLvl\tSplit Level"
   ]
  },
  {
   "cell_type": "markdown",
   "metadata": {},
   "source": [
    "### OverallQual\n",
    "\n",
    "Rates the overall material and finish of the house\n",
    "\n",
    "집 재료와 마무리 상태에 대한 평가\n",
    "\n",
    "    9\tExcellent\n",
    "    8\tVery Good\n",
    "    7\tGood\n",
    "    6\tAbove Average\n",
    "    5\tAverage\n",
    "    4\tBelow Average\n",
    "    3\tFair\n",
    "    2\tPoor\n",
    "    1\tVery Poor"
   ]
  },
  {
   "cell_type": "markdown",
   "metadata": {},
   "source": [
    "### OverallCond\n",
    "\n",
    "Rates the overall material and finish of the house\n",
    "\n",
    "집 상태에 대한 평가\n",
    "\n",
    "    9\tExcellent\n",
    "    8\tVery Good\n",
    "    7\tGood\n",
    "    6\tAbove Average\n",
    "    5\tAverage\n",
    "    4\tBelow Average\n",
    "    3\tFair\n",
    "    2\tPoor\n",
    "    1\tVery Poor"
   ]
  },
  {
   "cell_type": "markdown",
   "metadata": {},
   "source": [
    "### YearBuilt\n",
    "\n",
    "Original construction date\n",
    "\n",
    "건설 날짜"
   ]
  },
  {
   "cell_type": "markdown",
   "metadata": {},
   "source": [
    "### YearRemodAdd\n",
    "\n",
    "Remodel date (same as construction date if no remodeling or additions)\n",
    "\n",
    "리모델링 날짜 (개조 또는 추가가없는 경우 시공 날짜와 동일)"
   ]
  },
  {
   "cell_type": "markdown",
   "metadata": {},
   "source": [
    "### RoofMatl\n",
    "\n",
    "Roof material\n",
    "\n",
    "지붕 재료\n",
    "\n",
    "    ClyTile\tClay or Tile (점토 또는 타일)\n",
    "    CompShg\tStandard (Composite) Shingle \n",
    "    Membran\tMembrane\n",
    "    Metal\tMetal (금속)\n",
    "    Roll\tRoll\n",
    "    Tar&Grv\tGravel & Tar (자갈 및 타르)\n",
    "    WdShake\tWood Shakes\n",
    "    WdShngl\tWood Shingles"
   ]
  },
  {
   "cell_type": "markdown",
   "metadata": {},
   "source": [
    "### Exterior1st\n",
    "\n",
    "Exterior covering on house\n",
    "\n",
    "집 외부 덮개\n",
    "\n",
    "    AsbShng\tAsbestos Shingles\n",
    "    AsphShn\tAsphalt Shingles\n",
    "    BrkComm\tBrick Common\n",
    "    BrkFace\tBrick Face\n",
    "    CBlock\tCinder Block\n",
    "    CemntBd\tCement Board\n",
    "    HdBoard\tHard Board\n",
    "    ImStucc\tImitation Stucco\n",
    "    MetalSd\tMetal Siding\n",
    "    Other\tOther\n",
    "    Plywood\tPlywood\n",
    "    PreCast\tPreCast\t\n",
    "    Stone\tStone\n",
    "    Stucco\tStucco\n",
    "    VinylSd\tVinyl Siding\n",
    "    Wd Sdng\tWood Siding\n",
    "    WdShing\tWood Shingles"
   ]
  },
  {
   "cell_type": "markdown",
   "metadata": {},
   "source": [
    "### Exterior2nd\n",
    "\n",
    "Exterior covering on house (if more than one material)\n",
    "\n",
    "집 외부 덮개 (재료가 둘 이상인 경우)\n",
    "\n",
    "    AsbShng\tAsbestos Shingles\n",
    "    AsphShn\tAsphalt Shingles\n",
    "    BrkComm\tBrick Common\n",
    "    BrkFace\tBrick Face\n",
    "    CBlock\tCinder Block\n",
    "    CemntBd\tCement Board\n",
    "    HdBoard\tHard Board\n",
    "    ImStucc\tImitation Stucco\n",
    "    MetalSd\tMetal Siding\n",
    "    Other\tOther\n",
    "    Plywood\tPlywood\n",
    "    PreCast\tPreCast\t\n",
    "    Stone\tStone\n",
    "    Stucco\tStucco\n",
    "    VinylSd\tVinyl Siding\n",
    "    Wd Sdng\tWood Siding\n",
    "    WdShing\tWood Shingles"
   ]
  },
  {
   "cell_type": "markdown",
   "metadata": {},
   "source": [
    "### MasVnrType\n",
    "\n",
    "Masonry veneer type\n",
    "\n",
    "벽돌 겉지장 유형\n",
    "\n",
    "    BrkCmn\tBrick Common\n",
    "    BrkFace\tBrick Face\n",
    "    CBlock\tCinder Block\n",
    "    None\tNone\n",
    "    Stone\tStone"
   ]
  },
  {
   "cell_type": "markdown",
   "metadata": {},
   "source": [
    "### MasVnrArea\n",
    "\n",
    "Masonry veneer area in square feet (벽돌 겉지장 면적 (평방))"
   ]
  },
  {
   "cell_type": "markdown",
   "metadata": {},
   "source": [
    "### ExterQual\n",
    "\n",
    "Evaluates the quality of the material on the exterior\n",
    "\n",
    "외부 재료의 품질 평가\n",
    "\n",
    "    Ex\tExcellent\n",
    "    Gd\tGood\n",
    "    TA\tAverage/Typical\n",
    "    Fa\tFair\n",
    "    Po\tPoor"
   ]
  },
  {
   "cell_type": "markdown",
   "metadata": {},
   "source": [
    "### ExterCond\n",
    "\n",
    "Evaluates the present condition of the material on the exterior\n",
    "\n",
    "외부 재료의 상태 평가\n",
    "\n",
    "    Ex\tExcellent\n",
    "    Gd\tGood\n",
    "    TA\tAverage/Typical\n",
    "    Fa\tFair\n",
    "    Po\tPoor"
   ]
  },
  {
   "cell_type": "markdown",
   "metadata": {},
   "source": [
    "### Foundation\n",
    "\n",
    "Type of foundation\n",
    "\n",
    "토대 유형\n",
    "\n",
    "    BrkTil\tBrick & Tile\n",
    "    CBlock\tCinder Block (콘크리트 블록)\n",
    "    PConc\tPoured Contrete\t(쏟아지는 콘크리트)\n",
    "    Slab\tSlab\n",
    "    Stone\tStone\n",
    "    Wood\tWood"
   ]
  },
  {
   "cell_type": "markdown",
   "metadata": {},
   "source": [
    "### BsmtQual\n",
    "\n",
    "Evaluates the height of the basement\n",
    "\n",
    "지하실 높이 평가\n",
    "\n",
    "    Ex\tExcellent (100+ inches)\t\n",
    "    Gd\tGood (90-99 inches)\n",
    "    TA\tTypical (80-89 inches)\n",
    "    Fa\tFair (70-79 inches)\n",
    "    Po\tPoor (<70 inches\n",
    "    NA\tNo Basement"
   ]
  },
  {
   "cell_type": "markdown",
   "metadata": {},
   "source": [
    "### BsmtCond\n",
    "\n",
    "Evaluates the height of the basement\n",
    "\n",
    "지하실의 일반적인 상태 평가\n",
    "\n",
    "\n",
    "    Ex\tExcellent\n",
    "    Gd\tGood\n",
    "    TA\tTypical - slight dampness allowed\n",
    "    Fa\tFair - dampness or some cracking or settling\n",
    "    Po\tPoor - Severe cracking, settling, or wetness\n",
    "    NA\tNo Basement"
   ]
  },
  {
   "cell_type": "markdown",
   "metadata": {},
   "source": [
    "### BsmtExposure\n",
    "\n",
    "Refers to walkout or garden level walls\n",
    "\n",
    "    Gd\tGood Exposure\n",
    "    Av\tAverage Exposure (split levels or foyers typically score average or above)\t\n",
    "    Mn\tMimimum Exposure\n",
    "    No\tNo Exposure\n",
    "    NA\tNo Basement"
   ]
  },
  {
   "cell_type": "markdown",
   "metadata": {},
   "source": [
    "### BsmtFinType1\n",
    "\n",
    "Rating of basement finished area\n",
    "\n",
    "꾸며진 지하실 면적 등급\n",
    "\n",
    "    GLQ\tGood Living Quarters\n",
    "    ALQ\tAverage Living Quarters\n",
    "    BLQ\tBelow Average Living Quarters\t\n",
    "    Rec\tAverage Rec Room\n",
    "    LwQ\tLow Quality\n",
    "    Unf\tUnfinshed\n",
    "    NA\tNo Basement"
   ]
  },
  {
   "cell_type": "markdown",
   "metadata": {},
   "source": [
    "### BsmtFinSF1\n",
    "\n",
    "Type 1 finished square feet"
   ]
  },
  {
   "cell_type": "markdown",
   "metadata": {},
   "source": [
    "### BsmtFinType2\n",
    "\n",
    "Rating of basement finished area (if multiple types)\n",
    "\n",
    "\n",
    "지하실 마감 면적 등급 (여러 유형 인 경우)\n",
    "\n",
    "    GLQ\tGood Living Quarters\n",
    "    ALQ\tAverage Living Quarters\n",
    "    BLQ\tBelow Average Living Quarters\t\n",
    "    Rec\tAverage Rec Room\n",
    "    LwQ\tLow Quality\n",
    "    Unf\tUnfinshed\n",
    "    NA\tNo Basement"
   ]
  },
  {
   "cell_type": "markdown",
   "metadata": {},
   "source": [
    "### BsmtFinSF2\n",
    "\n",
    "Type 2 finished square feet"
   ]
  },
  {
   "cell_type": "markdown",
   "metadata": {},
   "source": [
    "### BsmtUnfSF\n",
    "\n",
    "Unfinished square feet of basement area"
   ]
  },
  {
   "cell_type": "markdown",
   "metadata": {},
   "source": [
    "### TotalBsmtSF\n",
    "\n",
    "Total square feet of basement area"
   ]
  },
  {
   "cell_type": "markdown",
   "metadata": {},
   "source": [
    "### Heating\n",
    "\n",
    "Type of heating\n",
    "\n",
    "난방 유형\n",
    "\n",
    "    Floor\tFloor Furnace (바닥 용광로)\n",
    "    GasA\tGas forced warm air furnace\n",
    "    GasW\tGas hot water or steam heat\n",
    "    Grav\tGravity furnace\t\n",
    "    OthW\tHot water or steam heat other than gas\n",
    "    Wall\tWall furnace"
   ]
  },
  {
   "cell_type": "markdown",
   "metadata": {},
   "source": [
    "### HeatingQC\n",
    "\n",
    "Heating quality and condition\n",
    "\n",
    "난방 품질 및 상태\n",
    "\n",
    "    Ex\tExcellent\n",
    "    Gd\tGood\n",
    "    TA\tAverage/Typical\n",
    "    Fa\tFair\n",
    "    Po\tPoor"
   ]
  },
  {
   "cell_type": "markdown",
   "metadata": {},
   "source": [
    "### CentralAir\n",
    "\n",
    "Central air conditioning\n",
    "\n",
    "중앙 에어퀀\n",
    "\n",
    "    N\tNo\n",
    "    Y\tYes"
   ]
  },
  {
   "cell_type": "markdown",
   "metadata": {},
   "source": [
    "### Electrical\n",
    "\n",
    "Electrical system\n",
    "\n",
    "전기 시스템\n",
    "\n",
    "    SBrkr\tStandard Circuit Breakers & Romex\n",
    "    FuseA\tFuse Box over 60 AMP and all Romex wiring (Average)\t\n",
    "    FuseF\t60 AMP Fuse Box and mostly Romex wiring (Fair)\n",
    "    FuseP\t60 AMP Fuse Box and mostly knob & tube wiring (poor)\n",
    "    Mix\tMixed"
   ]
  },
  {
   "cell_type": "markdown",
   "metadata": {},
   "source": [
    "### 1stFlrSF\n",
    "\n",
    "First Floor square feet"
   ]
  },
  {
   "cell_type": "markdown",
   "metadata": {},
   "source": [
    "### 2ndFlrSF\n",
    "\n",
    "Second floor square feet"
   ]
  },
  {
   "cell_type": "markdown",
   "metadata": {},
   "source": [
    "### LowQualFinSF\n",
    "\n",
    "Low quality finished square feet (all floors)"
   ]
  },
  {
   "cell_type": "markdown",
   "metadata": {},
   "source": [
    "### GrLivArea\n",
    "\n",
    "Above grade (ground) living area square feet"
   ]
  },
  {
   "cell_type": "markdown",
   "metadata": {},
   "source": [
    "### BsmtFullBath\n",
    "\n",
    "Basement full bathrooms"
   ]
  },
  {
   "cell_type": "markdown",
   "metadata": {},
   "source": [
    "### BsmtHalfBath\n",
    "\n",
    "Basement half bathrooms"
   ]
  },
  {
   "cell_type": "markdown",
   "metadata": {},
   "source": [
    "### FullBath\n",
    "\n",
    "Full bathrooms above grade"
   ]
  },
  {
   "cell_type": "markdown",
   "metadata": {},
   "source": [
    "### HalfBath\n",
    "\n",
    "Half baths above grade"
   ]
  },
  {
   "cell_type": "markdown",
   "metadata": {},
   "source": [
    "### Kitchen\n",
    "\n",
    "Kitchens above grade"
   ]
  },
  {
   "cell_type": "markdown",
   "metadata": {},
   "source": [
    "### KitchenQual\n",
    "\n",
    "Kitchen quality\n",
    "\n",
    "    Ex\tExcellent\n",
    "    Gd\tGood\n",
    "    TA\tTypical/Average\n",
    "    Fa\tFair\n",
    "    Po\tPoor"
   ]
  },
  {
   "cell_type": "markdown",
   "metadata": {},
   "source": [
    "### TotRmsAbvGrd\n",
    "\n",
    "Total rooms above grade (does not include bathrooms)"
   ]
  },
  {
   "cell_type": "markdown",
   "metadata": {},
   "source": [
    "### Functional\n",
    "\n",
    "Home functionality (Assume typical unless deductions are warranted)\n",
    "\n",
    "홈 기능 (공제가 보장되지 않는 한 일반적인 가정)\n",
    "\n"
   ]
  },
  {
   "cell_type": "markdown",
   "metadata": {},
   "source": [
    "### Fireplaces\n",
    "\n",
    "Number of fireplaces\n",
    "\n",
    "벽난로 수"
   ]
  },
  {
   "cell_type": "markdown",
   "metadata": {},
   "source": [
    "### FireplaceQu\n",
    "\n",
    "Fireplace quality\n",
    "\n",
    "\n",
    "    Ex\tExcellent - Exceptional Masonry Fireplace\n",
    "    Gd\tGood - Masonry Fireplace in main level\n",
    "    TA\tAverage - Prefabricated Fireplace in main living area or Masonry Fireplace in basement\n",
    "    Fa\tFair - Prefabricated Fireplace in basement\n",
    "    Po\tPoor - Ben Franklin Stove\n",
    "    NA\tNo Fireplace"
   ]
  },
  {
   "cell_type": "markdown",
   "metadata": {},
   "source": [
    "### GarageType\n",
    "\n",
    "Garage location\n",
    "\n",
    "차고 위치\n",
    "\n",
    "    2Types\tMore than one type of garage\n",
    "    Attchd\tAttached to home\n",
    "    Basment\tBasement Garage\n",
    "    BuiltIn\tBuilt-In (Garage part of house - typically has room above garage)\n",
    "    CarPort\tCar Port\n",
    "    Detchd\tDetached from home\n",
    "    NA\tNo Garage"
   ]
  },
  {
   "cell_type": "markdown",
   "metadata": {},
   "source": [
    "### GarageYrBlt\n",
    "\n",
    "Year garage was built\n",
    "\n",
    "차고 건설 연도"
   ]
  },
  {
   "cell_type": "markdown",
   "metadata": {},
   "source": [
    "### GarageFinish\n",
    "\n",
    "Interior finish of the garage\n",
    "\n",
    "차고 인테리어 완성도\n",
    "\n",
    "    Fin\tFinished\n",
    "    RFn\tRough Finished\t\n",
    "    Unf\tUnfinished\n",
    "    NA\tNo Garage"
   ]
  },
  {
   "cell_type": "markdown",
   "metadata": {},
   "source": [
    "### GarageCars\n",
    "\n",
    "Size of garage in car capacity\n",
    "\n",
    "차고 크기 (차량 수용정도)"
   ]
  },
  {
   "cell_type": "markdown",
   "metadata": {},
   "source": [
    "### GarageArea\n",
    "\n",
    "Size of garage in square feet\n",
    "\n",
    "차고 크기 (평방 피트)"
   ]
  },
  {
   "cell_type": "markdown",
   "metadata": {},
   "source": [
    "### GarageQual\n",
    "\n",
    "Garage quality\n",
    "\n",
    "    Ex\tExcellent\n",
    "    Gd\tGood\n",
    "    TA\tTypical/Average\n",
    "    Fa\tFair\n",
    "    Po\tPoor\n",
    "    NA\tNo Garage"
   ]
  },
  {
   "cell_type": "markdown",
   "metadata": {},
   "source": [
    "### GarageCond\n",
    "\n",
    "Garage condition\n",
    "\n",
    "    Ex\tExcellent\n",
    "    Gd\tGood\n",
    "    TA\tTypical/Average\n",
    "    Fa\tFair\n",
    "    Po\tPoor\n",
    "    NA\tNo Garage"
   ]
  },
  {
   "cell_type": "markdown",
   "metadata": {},
   "source": [
    "### PavedDrive\n",
    "\n",
    "Paved driveway\n",
    "\n",
    "포장된 진입로\n",
    "\n",
    "    Y\tPaved \n",
    "    P\tPartial Pavement\n",
    "    N\tDirt/Gravel"
   ]
  },
  {
   "cell_type": "markdown",
   "metadata": {},
   "source": [
    "### WoodDeckSF\n",
    "\n",
    "Wood deck area in square feet"
   ]
  },
  {
   "cell_type": "markdown",
   "metadata": {},
   "source": [
    "### OpenPorchSF\n",
    "\n",
    "Open porch area in square feet"
   ]
  },
  {
   "cell_type": "markdown",
   "metadata": {},
   "source": [
    "### EnclosedPorch\n",
    "\n",
    "Enclosed porch area in square feet"
   ]
  },
  {
   "cell_type": "markdown",
   "metadata": {},
   "source": [
    "### 3SsnPorch\n",
    "\n",
    "Three season porch area in square feet"
   ]
  },
  {
   "cell_type": "markdown",
   "metadata": {},
   "source": [
    "### ScreenPorch\n",
    "\n",
    "Screen porch area in square feet"
   ]
  },
  {
   "cell_type": "markdown",
   "metadata": {},
   "source": [
    "### PoolArea\n",
    "\n",
    "Pool area in square feet"
   ]
  },
  {
   "cell_type": "markdown",
   "metadata": {},
   "source": [
    "### PoolQC\n",
    "\n",
    "Pool quality\n",
    "\n",
    "수영장 품질\n",
    "\n",
    "    Ex\tExcellent\n",
    "    Gd\tGood\n",
    "    TA\tAverage/Typical\n",
    "    Fa\tFair\n",
    "    NA\tNo Pool"
   ]
  },
  {
   "cell_type": "markdown",
   "metadata": {},
   "source": [
    "### Fence\n",
    "\n",
    "Fence quality\n",
    "\n",
    "    GdPrv\tGood Privacy\n",
    "    MnPrv\tMinimum Privacy\n",
    "    GdWo\tGood Wood\n",
    "    MnWw\tMinimum Wood/Wire\n",
    "    NA\tNo Fence"
   ]
  },
  {
   "cell_type": "markdown",
   "metadata": {},
   "source": [
    "### MiscFeature\n",
    "\n",
    "Miscellaneous feature not covered in other categories\n",
    "\n",
    "다른 카테고리에서 다루지 않는 기타 기능\n",
    "\n",
    "    Elev\tElevator\n",
    "    Gar2\t2nd Garage (if not described in garage section)\n",
    "    Othr\tOther\n",
    "    Shed\tShed (over 100 SF)\n",
    "    TenC\tTennis Court\n",
    "    NA\tNone"
   ]
  },
  {
   "cell_type": "markdown",
   "metadata": {},
   "source": [
    "### MiscVal\n",
    "\n",
    "$ 기타 기능의 가치"
   ]
  },
  {
   "cell_type": "markdown",
   "metadata": {},
   "source": [
    "### MoSold\n",
    "\n",
    "Month Sold (MM)"
   ]
  },
  {
   "cell_type": "markdown",
   "metadata": {},
   "source": [
    "### YrSold\n",
    "\n",
    "Year Sold (YYYY)"
   ]
  },
  {
   "cell_type": "markdown",
   "metadata": {},
   "source": [
    "### SaleType\n",
    "\n",
    "Type of sale\n",
    "\n",
    "판매 유형\n",
    "\n",
    "    WD \tWarranty Deed - Conventional\n",
    "    CWD\tWarranty Deed - Cash\n",
    "    VWD\tWarranty Deed - VA Loan\n",
    "    New\tHome just constructed and sold\n",
    "    COD\tCourt Officer Deed/Estate\n",
    "    Con\tContract 15% Down payment regular terms\n",
    "    ConLw\tContract Low Down payment and low interest\n",
    "    ConLI\tContract Low Interest\n",
    "    ConLD\tContract Low Down\n",
    "    Oth\tOther"
   ]
  },
  {
   "cell_type": "markdown",
   "metadata": {},
   "source": [
    "### SaleCondition\n",
    "\n",
    "Condition of sale\n",
    "\n",
    "판매 상태\n",
    "\n",
    "    Normal\tNormal Sale\n",
    "    Abnorml\tAbnormal Sale -  trade, foreclosure, short sale\n",
    "    AdjLand\tAdjoining Land Purchase\n",
    "    Alloca\tAllocation - two linked properties with separate deeds, typically condo with a garage unit\t\n",
    "    Family\tSale between family members\n",
    "    Partial\tHome was not completed when last assessed (associated with New Homes)"
   ]
  }
 ],
 "metadata": {
  "kernelspec": {
   "display_name": "Python 3",
   "language": "python",
   "name": "python3"
  },
  "language_info": {
   "codemirror_mode": {
    "name": "ipython",
    "version": 3
   },
   "file_extension": ".py",
   "mimetype": "text/x-python",
   "name": "python",
   "nbconvert_exporter": "python",
   "pygments_lexer": "ipython3",
   "version": "3.8.5"
  }
 },
 "nbformat": 4,
 "nbformat_minor": 5
}
